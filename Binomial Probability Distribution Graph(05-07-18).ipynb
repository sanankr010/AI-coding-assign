{
 "cells": [
  {
   "cell_type": "code",
   "execution_count": 1,
   "metadata": {},
   "outputs": [],
   "source": [
    "import matplotlib.pyplot as plt"
   ]
  },
  {
   "cell_type": "code",
   "execution_count": 12,
   "metadata": {},
   "outputs": [],
   "source": [
    "N=10\n",
    "p=0.42\n",
    "q=1-p"
   ]
  },
  {
   "cell_type": "markdown",
   "metadata": {},
   "source": [
    "We need to plot the  Probability Distribution of Binomial Function and for that we need to calculate value of individual Probability at every single value ,k of Random Variable(X).\n",
    "So ,for ploting probability Distribution of Binomial Function we need according to the formula:\n",
    "P(X=k) =Nck (p)**k * (q)**(N-k)"
   ]
  },
  {
   "cell_type": "code",
   "execution_count": 13,
   "metadata": {},
   "outputs": [],
   "source": [
    "Individualprobability=[]\n",
    "RandomVariable=[]"
   ]
  },
  {
   "cell_type": "code",
   "execution_count": 14,
   "metadata": {},
   "outputs": [],
   "source": [
    "def ComputeNcK(N,k):\n",
    "    factN=1\n",
    "    for i in range(1,N+1):\n",
    "        factN=factN*i\n",
    "    factk=1\n",
    "    for i in range(1,k+1):\n",
    "        factk=factk*i\n",
    "    factNk=1\n",
    "    for i in range(1,(N-k+1)):\n",
    "        factNk=factNk*i\n",
    "    return (factN/(factk*factNk))"
   ]
  },
  {
   "cell_type": "code",
   "execution_count": 15,
   "metadata": {},
   "outputs": [
    {
     "name": "stdout",
     "output_type": "stream",
     "text": [
      "[0.004308042068994064, 0.03119616670650873, 0.10165647426776118, 0.19630215720671124, 0.24876221646022886, 0.21616578809647471, 0.13044487212718298, 0.053977188466420536, 0.014657598592174541, 0.002358694026326937, 0.00017080198121677818]\n",
      "[0, 1, 2, 3, 4, 5, 6, 7, 8, 9, 10]\n"
     ]
    }
   ],
   "source": [
    "for i in range(0,N+1):\n",
    "    Individualprobability.append(ComputeNcK(10,i)*(p)**i*(q)**(N-i))\n",
    "    RandomVariable.append(i)\n",
    "print(Individualprobability)\n",
    "print(RandomVariable)"
   ]
  },
  {
   "cell_type": "code",
   "execution_count": 16,
   "metadata": {},
   "outputs": [
    {
     "data": {
      "text/plain": [
       "<BarContainer object of 11 artists>"
      ]
     },
     "execution_count": 16,
     "metadata": {},
     "output_type": "execute_result"
    },
    {
     "data": {
      "image/png": "[encoded data removed]",
      "text/plain": [
       "<Figure size 432x288 with 1 Axes>"
      ]
     },
     "metadata": {},
     "output_type": "display_data"
    }
   ],
   "source": [
    "plt.bar(RandomVariable,Individualprobability,0.5)"
   ]
  },
  {
   "cell_type": "code",
   "execution_count": null,
   "metadata": {},
   "outputs": [],
   "source": []
  }
 ],
 "metadata": {
  "kernelspec": {
   "display_name": "Python 3",
   "language": "python",
   "name": "python3"
  },
  "language_info": {
   "codemirror_mode": {
    "name": "ipython",
    "version": 3
   },
   "file_extension": ".py",
   "mimetype": "text/x-python",
   "name": "python",
   "nbconvert_exporter": "python",
   "pygments_lexer": "ipython3",
   "version": "3.6.5"
  }
 },
 "nbformat": 4,
 "nbformat_minor": 2
}
